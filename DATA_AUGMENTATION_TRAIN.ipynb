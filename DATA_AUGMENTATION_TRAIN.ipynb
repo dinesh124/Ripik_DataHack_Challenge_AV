{
 "cells": [
  {
   "cell_type": "code",
   "execution_count": 39,
   "id": "7a85cba9",
   "metadata": {},
   "outputs": [],
   "source": [
    "import albumentations as A\n",
    "import cv2\n",
    "import glob\n",
    "import numpy as np\n",
    "import random\n",
    "from matplotlib import pyplot as plt\n",
    "#path=D:/FDM_DOWNLOAD/test/test/images/7202.jpg\n",
    "\n",
    "\n",
    "def Augmentation(path):\n",
    "# Load image and CSV  \n",
    "    images = glob.glob(path)\n",
    "    df = pd.read_csv('train/train.csv')\n",
    "    filename = os.path.basename(images[0])\n",
    "    #print(filename)\n",
    "    images = cv2.imread(images[0])\n",
    "    image = np.array(images)\n",
    "    \n",
    "   \n",
    "\n",
    "\n",
    "    # Define transforms\n",
    "    transforms = A.Compose([\n",
    "        A.Resize(width=512, height=512), # Scale all images to 256x256\n",
    "\n",
    "        A.Flip(p=0.5), # Random flip half the images horizontally\n",
    "        A.Transpose(p=0.5), # Random transpose half the images\n",
    "        A.RandomBrightnessContrast(p=0.5), \n",
    "        A.MedianBlur(blur_limit=3, p=0.1),\n",
    "        A.MotionBlur(p=0.2),\n",
    "        A.GaussNoise(p=0.1),\n",
    "        A.OpticalDistortion(p=0.3),\n",
    "        A.GridDistortion(p=0.1),\n",
    "        A.ElasticTransform(p=0.1, alpha=120, sigma=120 * 0.05, alpha_affine=120 * 0.03),\n",
    "        A.HueSaturationValue(p=0.5),\n",
    "        A.CLAHE(p=0.5),\n",
    "        A.ShiftScaleRotate(shift_limit=0.0625, scale_limit=0.2, rotate_limit=45, p=0.5),\n",
    "        A.CoarseDropout(p=0.1)  \n",
    "    ])\n",
    "\n",
    "\n",
    "    # Get label from CSV\n",
    "    matches = df.loc[df['filename'] == filename]\n",
    "    if len(matches) > 0:\n",
    "       label = matches.iloc[0]['label']\n",
    "    else:\n",
    "       print(\"No match found\")\n",
    "    #print(label)\n",
    "\n",
    "    output_dir = 'D:/DATA/augmented_images'\n",
    "    os.makedirs(output_dir, exist_ok=True)\n",
    "    aug_images = []\n",
    "\n",
    "    for i in range(15):\n",
    "\n",
    "        # Augment image\n",
    "        aug_img = transforms(image=image)['image']\n",
    "        aug_images.append(aug_img)\n",
    "\n",
    "        # File name for augmented image\n",
    "        aug_file = f'{filename}_aug{i}.jpg'\n",
    "        #print(aug_file)\n",
    "\n",
    "        # Save image \n",
    "        cv2.imwrite(os.path.join(output_dir, aug_file), aug_img)\n",
    "        new_row = {'filename': aug_file, 'label': label}\n",
    "        \n",
    "\n",
    "        df = pd.concat([df, pd.DataFrame([new_row])], ignore_index=True)\n",
    "        # Append CSV row \n",
    "\n",
    "\n",
    "\n",
    "    # Save CSV\n",
    "    df.to_csv('updated_labels_train.csv', index=False)\n",
    "\n",
    "    #print(filename,'Done!')"
   ]
  },
  {
   "cell_type": "code",
   "execution_count": 37,
   "id": "8baa17ba",
   "metadata": {},
   "outputs": [],
   "source": [
    "Augmentation('C:/Users/Sri Ram/Untitled Folder 8/train/images/3.jpg')"
   ]
  },
  {
   "cell_type": "code",
   "execution_count": 41,
   "id": "1e140ee7",
   "metadata": {},
   "outputs": [
    {
     "name": "stderr",
     "output_type": "stream",
     "text": [
      "100%|██████████████████████████████████████████████████████████████████████████████| 7200/7200 [53:01<00:00,  2.26it/s]\n"
     ]
    }
   ],
   "source": [
    "folder = 'C:/Users/Sri Ram/Untitled Folder 8/train/images'  \n",
    "\n",
    "import os\n",
    "from tqdm import tqdm\n",
    "from PIL import Image\n",
    "#import augmentations # custom augmentations\n",
    "\n",
    "\n",
    "\n",
    "image_paths = []\n",
    "for root, _, files in os.walk(folder):\n",
    "        for file in tqdm(files): \n",
    "            if file.endswith((\".jpg\", \".jpeg\", \".png\")):\n",
    "                image_path = os.path.join(root, file)\n",
    "                Augmentation(image_path)\n",
    "                \n",
    "                pass\n"
   ]
  },
  {
   "cell_type": "code",
   "execution_count": 43,
   "id": "3109bbb2",
   "metadata": {},
   "outputs": [
    {
     "name": "stdout",
     "output_type": "stream",
     "text": [
      "Renamed all files successfully\n"
     ]
    }
   ],
   "source": [
    "import re\n",
    "\n",
    "# Folder containing images \n",
    "img_dir = 'D:/DATA/augmented_images'\n",
    "\n",
    "for filename in os.listdir(img_dir):\n",
    "  # Split filename & extension\n",
    "  name, ext = os.path.splitext(filename) \n",
    "  \n",
    "  # Extract ID and aug number   \n",
    "  id_ = re.search(r'^(\\d+)', name).group(1)\n",
    "  aug = re.search(r'_aug(\\d+)', name).group(1)\n",
    "  \n",
    "  # Construct new name\n",
    "  new_name = f\"{id_}_{aug}{ext}\"\n",
    "  \n",
    "  # Rename file\n",
    "  old_path = os.path.join(img_dir, filename)\n",
    "  new_path = os.path.join(img_dir, new_name)\n",
    "  os.rename(old_path, new_path)\n",
    "  \n",
    "print(\"Renamed all files successfully\")"
   ]
  },
  {
   "cell_type": "code",
   "execution_count": 73,
   "id": "c36dfb23",
   "metadata": {},
   "outputs": [
    {
     "name": "stdout",
     "output_type": "stream",
     "text": [
      "CSV saved\n"
     ]
    }
   ],
   "source": [
    "img_dir = 'D:/DATA/augmented_images'\n",
    "filenames = os.listdir(img_dir)\n",
    "csv_path = 'train/train.csv'\n",
    "labels_df = pd.read_csv(csv_path)\n",
    "# Extract ID from filename\n",
    "def get_id(fname):\n",
    "  return re.search(r'^(\\d+)_', fname).group(1)\n",
    "\n",
    "# Map filenames to labels  \n",
    "file_labels = [] \n",
    "for fname in filenames:\n",
    "  id_ = get_id(fname)  \n",
    "  label = labels_df[labels_df['image_id']==int(id_)]['label'].values[0]\n",
    "  file_labels.append({'id':id_,'filename': fname, 'label': label})\n",
    "  \n",
    "# Generate output CSV  \n",
    "output_df = pd.DataFrame(file_labels)\n",
    "output_df.to_csv('output.csv', index=False) \n",
    "\n",
    "print('CSV saved')\n"
   ]
  },
  {
   "cell_type": "code",
   "execution_count": 75,
   "id": "41586ccd",
   "metadata": {},
   "outputs": [
    {
     "ename": "AttributeError",
     "evalue": "'Series' object has no attribute 'valuecounts'",
     "output_type": "error",
     "traceback": [
      "\u001b[1;31m---------------------------------------------------------------------------\u001b[0m",
      "\u001b[1;31mAttributeError\u001b[0m                            Traceback (most recent call last)",
      "Cell \u001b[1;32mIn[75], line 1\u001b[0m\n\u001b[1;32m----> 1\u001b[0m \u001b[43mdf\u001b[49m\u001b[43m[\u001b[49m\u001b[38;5;124;43m\"\u001b[39;49m\u001b[38;5;124;43mlabel\u001b[39;49m\u001b[38;5;124;43m\"\u001b[39;49m\u001b[43m]\u001b[49m\u001b[38;5;241;43m.\u001b[39;49m\u001b[43mvaluecounts\u001b[49m()\n",
      "File \u001b[1;32mD:\\anaconda_installed\\envs\\tfgputest\\lib\\site-packages\\pandas\\core\\generic.py:6204\u001b[0m, in \u001b[0;36mNDFrame.__getattr__\u001b[1;34m(self, name)\u001b[0m\n\u001b[0;32m   6197\u001b[0m \u001b[38;5;28;01mif\u001b[39;00m (\n\u001b[0;32m   6198\u001b[0m     name \u001b[38;5;129;01mnot\u001b[39;00m \u001b[38;5;129;01min\u001b[39;00m \u001b[38;5;28mself\u001b[39m\u001b[38;5;241m.\u001b[39m_internal_names_set\n\u001b[0;32m   6199\u001b[0m     \u001b[38;5;129;01mand\u001b[39;00m name \u001b[38;5;129;01mnot\u001b[39;00m \u001b[38;5;129;01min\u001b[39;00m \u001b[38;5;28mself\u001b[39m\u001b[38;5;241m.\u001b[39m_metadata\n\u001b[0;32m   6200\u001b[0m     \u001b[38;5;129;01mand\u001b[39;00m name \u001b[38;5;129;01mnot\u001b[39;00m \u001b[38;5;129;01min\u001b[39;00m \u001b[38;5;28mself\u001b[39m\u001b[38;5;241m.\u001b[39m_accessors\n\u001b[0;32m   6201\u001b[0m     \u001b[38;5;129;01mand\u001b[39;00m \u001b[38;5;28mself\u001b[39m\u001b[38;5;241m.\u001b[39m_info_axis\u001b[38;5;241m.\u001b[39m_can_hold_identifiers_and_holds_name(name)\n\u001b[0;32m   6202\u001b[0m ):\n\u001b[0;32m   6203\u001b[0m     \u001b[38;5;28;01mreturn\u001b[39;00m \u001b[38;5;28mself\u001b[39m[name]\n\u001b[1;32m-> 6204\u001b[0m \u001b[38;5;28;01mreturn\u001b[39;00m \u001b[38;5;28;43mobject\u001b[39;49m\u001b[38;5;241;43m.\u001b[39;49m\u001b[38;5;21;43m__getattribute__\u001b[39;49m\u001b[43m(\u001b[49m\u001b[38;5;28;43mself\u001b[39;49m\u001b[43m,\u001b[49m\u001b[43m \u001b[49m\u001b[43mname\u001b[49m\u001b[43m)\u001b[49m\n",
      "\u001b[1;31mAttributeError\u001b[0m: 'Series' object has no attribute 'valuecounts'"
     ]
    }
   ],
   "source": [
    "df[\"label\"].valuecounts()"
   ]
  }
 ],
 "metadata": {
  "kernelspec": {
   "display_name": "Python 3 (ipykernel)",
   "language": "python",
   "name": "python3"
  },
  "language_info": {
   "codemirror_mode": {
    "name": "ipython",
    "version": 3
   },
   "file_extension": ".py",
   "mimetype": "text/x-python",
   "name": "python",
   "nbconvert_exporter": "python",
   "pygments_lexer": "ipython3",
   "version": "3.9.16"
  }
 },
 "nbformat": 4,
 "nbformat_minor": 5
}
