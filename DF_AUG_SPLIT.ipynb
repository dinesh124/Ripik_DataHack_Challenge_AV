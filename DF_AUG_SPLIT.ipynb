{
 "cells": [
  {
   "cell_type": "code",
   "execution_count": 13,
   "id": "93858f0e",
   "metadata": {},
   "outputs": [
    {
     "name": "stdout",
     "output_type": "stream",
     "text": [
      "(69120, 3)\n",
      "(24883, 3)\n",
      "(13997, 3)\n"
     ]
    }
   ],
   "source": [
    "\n",
    "from sklearn.model_selection import train_test_split\n",
    "\n",
    "df = pd.read_csv('output.csv') \n",
    "\n",
    "train_idxs, valtest_idxs = train_test_split(df.index, test_size=0.36, stratify=df['label'])\n",
    "val_idxs, test_idxs = train_test_split(valtest_idxs, test_size=0.36, stratify=df['label'].loc[valtest_idxs])\n",
    "\n",
    "# Construct train/val/test DataFrames\n",
    "df_train = df.loc[train_idxs].reset_index(drop=True)  \n",
    "df_val = df.loc[val_idxs].reset_index(drop=True)\n",
    "df_test = df.loc[test_idxs].reset_index(drop=True)\n",
    "\n",
    "print(df_train.shape) # (4608, 2)  ~64%\n",
    "print(df_val.shape) # (1152, 2) ~16%  \n",
    "print(df_test.shape) # (1440, 2) ~20%\n",
    "    \n",
    "    \n",
    "    \n"
   ]
  },
  {
   "cell_type": "code",
   "execution_count": 16,
   "id": "c8cd8fb8",
   "metadata": {},
   "outputs": [],
   "source": [
    "df_train.to_csv('df_train.csv', index=False) \n",
    "df_val.to_csv('df_val.csv', index=False)\n",
    "df_test.to_csv('df_test.csv', index=False)"
   ]
  },
  {
   "cell_type": "code",
   "execution_count": null,
   "id": "960c3a21",
   "metadata": {},
   "outputs": [],
   "source": []
  }
 ],
 "metadata": {
  "kernelspec": {
   "display_name": "Python 3 (ipykernel)",
   "language": "python",
   "name": "python3"
  },
  "language_info": {
   "codemirror_mode": {
    "name": "ipython",
    "version": 3
   },
   "file_extension": ".py",
   "mimetype": "text/x-python",
   "name": "python",
   "nbconvert_exporter": "python",
   "pygments_lexer": "ipython3",
   "version": "3.9.16"
  }
 },
 "nbformat": 4,
 "nbformat_minor": 5
}
